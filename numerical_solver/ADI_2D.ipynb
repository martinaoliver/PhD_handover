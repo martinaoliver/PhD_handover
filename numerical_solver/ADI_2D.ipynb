{
 "cells": [
  {
   "cell_type": "markdown",
   "metadata": {},
   "source": [
    "**This post is work in progress**"
   ]
  },
  {
   "cell_type": "markdown",
   "metadata": {},
   "source": [
    "# The Alternating Direction Implicit Method"
   ]
  },
  {
   "cell_type": "markdown",
   "metadata": {},
   "source": [
    "Just as the [Crank-Nicolson (CN) method](http://georg.io/2013/12/03/Crank_Nicolson.html) for reaction-diffusion\n",
    "systems with one space dimension, the \n",
    "[Alternating Direction Implicit (ADI) method](http://en.wikipedia.org/wiki/Alternating_direction_implicit_method)\n",
    "is used commonly for reaction-diffusion systems with two space dimensions.\n",
    "\n",
    "The ADI method has been described thoroughly many times, for instance by\n",
    "[Dehghan](http://www.sciencedirect.com/science/article/pii/S0377042700004520).\n",
    "\n",
    "In the following discussion we will consider a reaction-diffusion system similar to the one we\n",
    "studied [previously](http://georg.io/2013/12/03/Crank_Nicolson.html) and we will use analogous\n",
    "[Neumann boundary conditions](http://en.wikipedia.org/wiki/Neumann_boundary_condition).\n",
    "\n",
    "$$\\frac{\\partial u}{\\partial t} = D \\left( \\frac{\\partial^2 u}{\\partial x^2} + \\frac{\\partial^2 u}{\\partial y^2} \\right) + f(u),$$\n",
    "\n",
    "$$\\frac{\\partial u}{\\partial x}\\Bigg|_{x = 0, L_x} = 0,$$\n",
    "\n",
    "$$\\frac{\\partial u}{\\partial y}\\Bigg|_{y = 0, L_y} = 0,$$\n",
    "\n",
    "where $u(x,y,t)$ is our concentration variable, $D$ is the diffusion coefficient of $u$, $f$ is the reaction term, and $L_x$ and $L_y$ are the extent of our domain in the $x$ and $y$ direction respectively.\n",
    "\n",
    "Since ADI and CN are somewhat related, let us try to derive the most basic properties of the ADI in relation to CN."
   ]
  },
  {
   "cell_type": "markdown",
   "metadata": {},
   "source": [
    "## Grid Construction"
   ]
  },
  {
   "cell_type": "markdown",
   "metadata": {},
   "source": [
    "Analogous to the $(x,t)$-grid\n",
    "[used in CN](http://georg.io/2013/12/03/Crank_Nicolson.html#finite_difference_methods),\n",
    "we need to construct an $(x,y,t)$-grid for this problem with two space dimensions.\n",
    "\n",
    "In the simplest case, we construct a [regular grid](http://en.wikipedia.org/wiki/Regular_grid) as follows\n",
    "\n",
    "$$t_n = n \\Delta t,~ n = 0, \\ldots, N-1,$$\n",
    "\n",
    "$$x_j = j \\Delta x,~ j = 0, \\ldots, J-1,$$\n",
    "\n",
    "$$y_i = i \\Delta y,~ i = 0, \\ldots, I-1,$$\n",
    "\n",
    "where $N$, $J$, and $I$ are the number of grid points in the $t$-, $x$-, and $y$-direction.\n",
    "\n",
    "$\\Delta t$, $\\Delta x$, and $\\Delta y$ are defined as follows\n",
    "\n",
    "$$\\Delta t = \\frac{T}{N-1},~ \\Delta x = \\frac{L_x}{J-1},~ \\Delta y = \\frac{L_y}{I-1},$$\n",
    "\n",
    "where $T$ is the total amount of time we are interested in.\n",
    "\n",
    "[As before]((http://georg.io/2013/12/03/Crank_Nicolson.html#finite_difference_methods) we will refer to the\n",
    "numerical approximations of the unknown analytic solution $u(x,y,t)$ in our grid points as\n",
    "\n",
    "$$U(j \\Delta x, i \\Delta y, n \\Delta t) \\approx u(j \\Delta x, i \\Delta y, n \\Delta t),$$\n",
    "\n",
    "and we use the shorthand $U(j \\Delta x, i \\Delta y, n \\Delta t) = U_{j,i}^n.$\n",
    "We also refer to the grid point $(j \\Delta x, i \\Delta y, n \\Delta t)$ as $(j,i,n)$."
   ]
  },
  {
   "cell_type": "markdown",
   "metadata": {},
   "source": [
    "## Motivation for ADI"
   ]
  },
  {
   "cell_type": "markdown",
   "metadata": {},
   "source": [
    "When integrating the above reaction-diffusion equation numerically, we can still make use of the\n",
    "[CN stencil](http://georg.io/2013/12/03/Crank_Nicolson.html#the_cranknicolson_stencil).\n",
    "\n",
    "Applying the CN stencil to our reaction-diffusion equation on our $(x,y,t)$-grid, we obtain:\n",
    "\n",
    "$$\\frac{U_{j,i}^{n+1} - U_{j,i}^n}{\\Delta t} = \n",
    "\\frac{D}{2 \\Delta x^2} \\left( U_{j+1,i}^n -\n",
    "2 U_{j,i}^n + U_{j-1,i}^n + U_{j+1,i}^{n+1} - 2 U_{j,i}^{n+1} + U_{j-1,i}^{n+1}\\right) +\n",
    "\\frac{D}{2 \\Delta y^2} \\left( U_{j,i+1}^n -\n",
    "2 U_{j,i}^n + U_{j,i-1}^n + U_{j,i+1}^{n+1} - 2 U_{j,i}^{n+1} + U_{j,i-1}^{n+1}\\right) +\n",
    "f(U_{j,i}^n).$$\n",
    "\n",
    "Let us define $\\sigma_x = \\frac{D \\Delta t}{2 \\Delta x^2}$ and $\\sigma_y = \\frac{D \\Delta t}{2 \\Delta y^2}$.\n",
    "\n",
    "To [reorder our stencil](http://georg.io/2013/12/03/Crank_Nicolson.html#reordering_stencil_into_linear_system) into a linear system\n",
    "we need to define a new index that combines indices $i$ and $j$:\n",
    "\n",
    "$$k = j + i J$$\n",
    "\n",
    "This new index $k$ flattens the two-dimensional spatial part of our $(x,y,t)$-grid into a (one-dimensional) vector\n",
    "and our \"flattening methodology\" is analogous to the [row-major order](http://en.wikipedia.org/wiki/Row-major_order)\n",
    "representation of matrices.\n",
    "\n",
    "To illustrate, when we use the $k$ index grid points $(j,i,n)$ and $(j,i+1,n)$ become $(k,n)$ and $(k+J,n)$ respectively.\n",
    "\n",
    "Our stencil therefore becomes\n",
    "\n",
    "$$U_{k}^{n+1} - U_{k}^n = \n",
    "\\sigma_x \\left( U_{k+1}^n -\n",
    "2 U_{k}^n + U_{k-1}^n + U_{k+1}^{n+1} - 2 U_{k}^{n+1} + U_{k-1}^{n+1}\\right) +\n",
    "\\sigma_y \\left( U_{k+J}^n -\n",
    "2 U_{k}^n + U_{k-J}^n + U_{k+J}^{n+1} - 2 U_{k}^{n+1} + U_{k-J}^{n+1}\\right) +\n",
    "\\Delta t f(U_{k}^n),$$\n",
    "\n",
    "and reordering this expression, we obtain\n",
    "\n",
    "$$\n",
    "-\\sigma_y U_{k-J}^{n+1}\n",
    "-\\sigma_x U_{k-1}^{n+1}\n",
    "+ (1 + 2 \\sigma_x + 2 \\sigma_y) U_{k}^{n+1}\n",
    "-\\sigma_x U_{k+1}^{n+1}\n",
    "-\\sigma_y U_{k+J}^{n+1} =\n",
    "\\sigma_y U_{k-J}^n\n",
    "+\\sigma_x U_{k-1}^n\n",
    "+(1 - 2 \\sigma_x - 2 \\sigma_y) U_{k}^n\n",
    "+\\sigma_x U_{k+1}^n\n",
    "+\\sigma_y U_{k+J}^n\n",
    "+\\Delta t f(U_{k}^n).$$\n",
    "\n",
    "If we [wrote this out in matrix notation](http://georg.io/2013/12/03/Crank_Nicolson.html#reordering_stencil_into_linear_system), we would\n",
    "see \n",
    "[banded matrices](http://publib.boulder.ibm.com/infocenter/clresctr/vxrx/index.jsp?topic=%2Fcom.ibm.cluster.essl.v5r2.essl100.doc%2Fam5gr_bandma.htm) \n",
    "both on the left- and right-hand side (analogous to matrices $A$ and $B$\n",
    "[in the one-dimensional case](http://georg.io/2013/12/03/Crank_Nicolson.html#reordering_stencil_into_linear_system)):\n",
    "\n",
    "On the left-hand side of this liner system, matrix $A$ contains a\n",
    "tridiagonal core [as before](http://georg.io/2013/12/03/Crank_Nicolson.html#reordering_stencil_into_linear_system) with\n",
    "non-zero elements, $-\\sigma_y$, in the $J$-th [sub- and superdiagonals](http://en.wikipedia.org/wiki/Diagonal#Matrices).\n",
    "Matrix $B$ on the right-hand side looks similar but with $\\sigma_y$ in the $J$-th sub- and superdiagonals.\n",
    "\n",
    "Numerical inversion of banded matrices, such as $A$, is [expensive](http://en.wikipedia.org/wiki/Alternating_direction_implicit_method)\n",
    "with standard methods - at the very least we would not be able to use the standard\n",
    "[Thomas algorithm](http://en.wikipedia.org/wiki/Tridiagonal_matrix_algorithm) for tridiagonal matrices.\n",
    "\n",
    "The [ADI stencil](http://en.wikipedia.org/wiki/Alternating_direction_implicit_method) makes use of a trick that allows us to invert\n",
    "tridiagonal matrices, just as with the \n",
    "[CN stencil](http://georg.io/2013/12/03/Crank_Nicolson.html#the_cranknicolson_stencil),\n",
    "instead of banded matrices.\n",
    "\n",
    "The ADI stencil also suggests a straightforward way to implement a parallelized variant of the ADI method and we will discuss and\n",
    "demonstrate this below."
   ]
  },
  {
   "cell_type": "markdown",
   "metadata": {},
   "source": [
    "## The ADI Stencils"
   ]
  },
  {
   "cell_type": "markdown",
   "metadata": {},
   "source": [
    "The trick used in constructing the ADI method is to split our time step $\\Delta t$ into two and apply two different stencils in each\n",
    "half time step:\n",
    "therefore to increment time by one time step $n \\rightarrow n+1$ in grid point $(j,i,n)$, we first compute $U_{j,i}^{n+1/2}$\n",
    "($n \\rightarrow n+1/2$) and then compute $U_{j,i}^{n+1}$ ($n+1/2 \\rightarrow n+1$).\n",
    "Both of these stencils are chosen such that the resulting linear system is tridiagonal.\n",
    "\n",
    "The two [ADI stencils](http://en.wikipedia.org/wiki/Alternating_direction_implicit_method) \n",
    "bring in the $x$- and $y$-direction at the next time point\n",
    "([implicit](http://en.wikipedia.org/wiki/Finite_difference_method#Implicit_method) v\n",
    "[explicit](http://en.wikipedia.org/wiki/Finite_difference_method#Explicit_method) finite difference stencils) alternatingely -\n",
    "inspiring the name of the ADI method:\n",
    "\n",
    "$$\\frac{U_{j,i}^{n+1/2} - U_{j,i}^n}{\\Delta t / 2} = \n",
    "\\frac{D}{\\Delta x^2} \\left( U_{j+1,i}^{n+1/2} - 2 U_{j,i}^{n+1/2} + U_{j-1,i}^{n+1/2} \\right) +\n",
    "\\frac{D}{\\Delta y^2} \\left( U_{j,i+1}^n - 2 U_{j,i}^n + U_{j,i-1}^n \\right) +\n",
    "f(U_{j,i}^n),$$\n",
    "\n",
    "$$\\frac{U_{j,i}^{n+1} - U_{j,i}^{n+1/2}}{\\Delta t / 2} = \n",
    "\\frac{D}{\\Delta x^2} \\left( U_{j+1,i}^{n+1/2} - 2 U_{j,i}^{n+1/2} + U_{j-1,i}^{n+1/2} \\right) +\n",
    "\\frac{D}{\\Delta y^2} \\left( U_{j,i+1}^{n+1} - 2 U_{j,i}^{n+1} + U_{j,i-1}^{n+1} \\right) +\n",
    "f(U_{j,i}^{n+1/2}).$$"
   ]
  },
  {
   "cell_type": "markdown",
   "metadata": {},
   "source": [
    "## The ADI Linear Systems"
   ]
  },
  {
   "cell_type": "markdown",
   "metadata": {},
   "source": [
    "[As before](http://georg.io/2013/12/03/Crank_Nicolson.html) we define $\\sigma_x = \\frac{D \\Delta t}{2 \\Delta x^2}$ and \n",
    "$\\sigma_y = \\frac{D \\Delta t}{2 \\Delta y^2}$.\n",
    "\n",
    "Reordering both stencils, we obtain the following systems of linear equations\n",
    "\n",
    "$$\n",
    "-\\sigma_x U_{j-1,i}^{n+1/2} + (1+2\\sigma_x) U_{j,i}^{n+1/2} - \\sigma_x U_{j+1,i}^{n+1/2} =\n",
    "\\sigma_y U_{j,i+1}^n + (1-2\\sigma_y) U_{j,i}^n + \\sigma_y U_{j,i-1}^n + \\frac{\\Delta t}{2} f(U_{j,i}^n),\n",
    "$$\n",
    "\n",
    "$$\n",
    "-\\sigma_y U_{j,i+1}^{n+1} + (1+2\\sigma_y) U_{j,i}^{n+1} - \\sigma_y U_{j,i-1}^{n+1} =\n",
    "\\sigma_x U_{j-1,i}^{n+1/2} + (1-2\\sigma_x) U_{j,i}^{n+1/2} + \\sigma_x U_{j+1,i}^{n+1/2} + \\frac{\\Delta t}{2} f(U_{j,i}^{n+1/2}).\n",
    "$$"
   ]
  },
  {
   "cell_type": "markdown",
   "metadata": {},
   "source": [
    "### Family of Linear Systems in the $x$-Direction"
   ]
  },
  {
   "cell_type": "markdown",
   "metadata": {},
   "source": [
    "Consider the stencil pictured in \n",
    "[Dehghan Figure 1](http://www.sciencedirect.com/science/article/pii/S0377042700004520#FIG1)\n",
    "and let us think of the matrix defined by $\\left(U_{j,i}^n\\right)$ \n",
    "($j=0,\\ldots,J-1$, $i=0\\ldots,I-1$, $n$ held constant) as a concentration plane.\n",
    "\n",
    "We realize that for fixed index $i$ the first of our two equations above define a\n",
    "system of linear equations similar to the linear system we obtained for\n",
    "[CN with one space dimension](http://georg.io/2013/12/03/Crank_Nicolson.html#reordering_stencil_into_linear_system).\n",
    "As for CN with one space dimension we need to amend certain entries of our linear system to\n",
    "accommodate our Neumann boundary conditions on the edges of our grid.\n",
    "In fact we need to accommodate boundary conditions in both the $x$- and $y$-direction.\n",
    "\n",
    "Our first equation does not need to be modified for grid points that lie \"within\" the\n",
    "spatial part of our grid, i.e. $(j,i,n)$ for $j=1,\\ldots,J-2$, $i=1,\\ldots,I-2$, and $n=0,1,2,\\ldots$:\n",
    "\n",
    "$$\n",
    "-\\sigma_x U_{j-1,i}^{n+1/2} + (1+2\\sigma_x) U_{j,i}^{n+1/2} - \\sigma_x U_{j+1,i}^{n+1/2} =\n",
    "\\sigma_y U_{j,i+1}^n + (1-2\\sigma_y) U_{j,i}^n + \\sigma_y U_{j,i-1}^n + \\frac{\\Delta t}{2} f(U_{j,i}^n).\n",
    "$$\n",
    "\n",
    "Let us take a look at what happens for grid points on the far left and right with $j=0,J-1$ and $i=1,\\ldots,I-2$:\n",
    "\n",
    "$$\n",
    "j=0:~ (1+\\alpha_x) U_{0,i}^{n+1/2} - \\alpha_x U_{1,i}^{n+1/2} =\n",
    "\\alpha_y U_{0,i-1}^n + (1-2\\alpha_y) U_{0,i}^n + \\alpha_y U_{0,i+1}^n + \\Delta t f(U_{0,i}^n),\n",
    "$$\n",
    "\n",
    "$$\n",
    "j=J-1:~ -\\alpha_x U_{J-2,i}^{n+1/2} + (1+\\alpha_x) U_{J-1,i}^{n+1/2} =\n",
    "\\alpha_y U_{J-1,i-1}^n + (1-2\\alpha_y) U_{J-1,i}^n + \\alpha_y U_{J-1,i+1}^n + \\Delta t f(U_{J-1,i}^n).\n",
    "$$\n",
    "\n",
    "On the left-hand side of the linear system defined by these three expressions (imagine varying $j=0,1,\\ldots,J-1$)\n",
    "we can already make out essentially the same matrix as we constructed for\n",
    "[CN with one space dimension](http://georg.io/2013/12/03/Crank_Nicolson.html#reordering_stencil_into_linear_system).\n",
    "Note that this matrix is the same for all indeces $i=0,1,\\ldots,I-1$.\n",
    "\n",
    "This completes incorporating our boundary conditions in the $x$-direction.\n",
    "Before we move on to doing the same with our boundary conditions in the $y$-direction let us\n",
    "state clearly that our $(x,y)$-concentration plane has\n",
    "[right-handed orientation](http://en.wikipedia.org/wiki/Cartesian_coordinate_system#In_two_dimensions)\n",
    "meaning that $x$ increases *left to right* and $y$ increases *bottom to top*.\n",
    "Our grid has the same orientation so that index $j$ incrases *left to right* and\n",
    "index $i$ increases *bottom to top*.\n",
    "\n",
    "Let us now take a look at this equation for $j=1,\\ldots,J-2$ and $i=0$ (bottom) and $i=I-1$ (top):\n",
    "\n",
    "$$\n",
    "i=0:~ -\\alpha_x U_{j-1,0}^{n+1/2} + (1+2\\alpha_x) U_{j,0}^{n+1/2} - \\alpha_x U_{j+1,0}^{n+1/2} =\n",
    "(1-\\alpha_y) U_{j,0}^n + \\alpha_y U_{j,1}^n + \\Delta t f(U_{j,0}^n),\n",
    "$$\n",
    "\n",
    "$$\n",
    "i=I-1:~ -\\alpha_x U_{j-1,I-1}^{n+1/2} + (1+2\\alpha_x) U_{j,I-1}^{n+1/2} - \\alpha_x U_{j+1,I-1}^{n+1/2} =\n",
    "\\alpha_y U_{j,I-2}^n + (1-\\alpha_y) U_{j,I-1}^n + \\Delta t f(U_{j,I-1}^n).\n",
    "$$\n",
    "\n",
    "To rewrite these equations in compact matrix notation, let us define a horizontal slice (*left to right*)\n",
    "through our concentration plane as vector\n",
    "\n",
    "$$\\mathbf{U}_{x,i}^n = \\begin{bmatrix}U_{0,i}^n, & \\ldots, & U_{J-1,i}^n \\end{bmatrix}$$\n",
    "\n",
    "We can now combine all of the above and write the first of our two families of ADI linear systems compactly:\n",
    "\n",
    "$$A \\mathbf{U}_{x,i}^{n+1/2} = \\mathbf{b}_i + \\mathbf{f}\\left( \\Delta t \\mathbf{U}_{x,i}^n \\right),~i=0,\\ldots,I-1,$$\n",
    "\n",
    "where \n",
    "\n",
    "$$A = \\begin{bmatrix}\n",
    "1+\\alpha_x & -\\alpha_x & 0 & 0 & 0 & \\cdots & 0 & 0 & 0 & 0\\\\\n",
    "-\\alpha_x & 1+2\\alpha_x & -\\alpha_x & 0 & 0 & \\cdots & 0 & 0 & 0 & 0 \\\\\n",
    "0 & -\\alpha_x & 1+2\\alpha_x & -\\alpha_x & \\cdots & 0 & 0 & 0 & 0 & 0 \\\\\n",
    "0 & 0 & \\ddots & \\ddots & \\ddots & \\ddots & 0 & 0 & 0 & 0 \\\\\n",
    "0 & 0 & 0 & 0 & 0 & 0 & 0 & -\\alpha_x & 1+2\\alpha_x & -\\alpha_x \\\\\n",
    "0 & 0 & 0 & 0 & 0 & 0 & 0 & 0 & -\\alpha_x & 1+\\alpha_x\n",
    "\\end{bmatrix}.$$\n",
    "\n",
    "The form of vector $\\mathbf{b}_i$ depends on $i$:\n",
    "\n",
    "$$i=I-1:~ \\mathbf{b}_{I-1} = \n",
    "\\begin{bmatrix}\n",
    "(1-\\alpha_y) U_{0,I-1}^n + \\alpha_y U_{0,I-2}^n \\\\\n",
    "\\vdots \\\\\n",
    "(1-\\alpha_y) U_{J-1,I-1}^n + \\alpha_y U_{J-1,I-2}^n\n",
    "\\end{bmatrix}$$\n",
    "\n",
    "$$i=I-2,\\ldots,1:~ \\mathbf{b}_i = \n",
    "\\begin{bmatrix}\n",
    "\\alpha_y U_{0,i+1}^n + (1-2\\alpha_y) U_{0,i}^n + \\alpha_y U_{0,i-1}^n \\\\\n",
    "\\vdots \\\\\n",
    "\\alpha_y U_{J-1,i+1}^n + (1-2\\alpha_y) U_{J-1,i}^n + \\alpha_y U_{J-1,i-1}^n\n",
    "\\end{bmatrix}$$\n",
    "\n",
    "$$i=0:~ \\mathbf{b}_0 = \n",
    "\\begin{bmatrix}\n",
    "\\alpha_y U_{0,1}^n + (1-\\alpha_y) U_{0,0}^n \\\\\n",
    "\\vdots \\\\\n",
    "\\alpha_y U_{J-1,1}^n + (1-\\alpha_y) U_{J-1,0}^n\n",
    "\\end{bmatrix}.$$\n",
    "\n",
    "The reaction term vector is\n",
    "\n",
    "$$\\mathbf{f}\\left( \\Delta t \\mathbf{U}_{x,i}^n \\right) = \n",
    "\\begin{bmatrix}\n",
    "\\Delta t f(U_{0,i}^n), & \\ldots, & \\Delta t f(U_{J-1,i}^n)\n",
    "\\end{bmatrix}$$"
   ]
  },
  {
   "cell_type": "markdown",
   "metadata": {},
   "source": [
    "### Family of Linear Systems in the $y$-Direction"
   ]
  },
  {
   "cell_type": "markdown",
   "metadata": {},
   "source": [
    "Let us first define a vertical (*from top to bottom*) slice through our concentration plane\n",
    "(note our comment on \n",
    "[right-handedness](http://en.wikipedia.org/wiki/Cartesian_coordinate_system#In_two_dimensions) above) as:\n",
    "\n",
    "$$\\mathbf{U}_{y,j}^n = \\begin{bmatrix}U_{j,I-1}^n, & U_{j,I-2}^n, & \\ldots, & U_{j,0}^n \\end{bmatrix}$$\n",
    "\n",
    "Following an equivalent procedure to above for the second family of ADI linear systems we obtain:\n",
    "\n",
    "$$C \\mathbf{U}_{y,j}^{n+1} = \\mathbf{d}_j + \\mathbf{f}\\left( \\Delta t \\mathbf{U}_{y,j}^{n+1/2} \\right),~j=0,\\ldots,J-1,$$\n",
    "\n",
    "where \n",
    "\n",
    "$$C = \\begin{bmatrix}\n",
    "1+\\alpha_y & -\\alpha_y & 0 & 0 & 0 & \\cdots & 0 & 0 & 0 & 0\\\\\n",
    "-\\alpha_y & 1+2\\alpha_y & -\\alpha_y & 0 & 0 & \\cdots & 0 & 0 & 0 & 0 \\\\\n",
    "0 & -\\alpha_y & 1+2\\alpha_y & -\\alpha_y & \\cdots & 0 & 0 & 0 & 0 & 0 \\\\\n",
    "0 & 0 & \\ddots & \\ddots & \\ddots & \\ddots & 0 & 0 & 0 & 0 \\\\\n",
    "0 & 0 & 0 & 0 & 0 & 0 & 0 & -\\alpha_y & 1+2\\alpha_y & -\\alpha_y \\\\\n",
    "0 & 0 & 0 & 0 & 0 & 0 & 0 & 0 & -\\alpha_y & 1+\\alpha_y\n",
    "\\end{bmatrix}.$$\n",
    "\n",
    "The form of vector $\\mathbf{d}_j$ depends on $j$:\n",
    "\n",
    "$$j=0:~ \\mathbf{d}_0 = \n",
    "\\begin{bmatrix}\n",
    "(1-\\alpha_x) U_{0,I-1}^{n+1/2} + \\alpha_x U_{1,I-1}^{n+1/2} \\\\\n",
    "(1-\\alpha_x) U_{0,I-2}^{n+1/2} + \\alpha_x U_{1,I-2}^{n+1/2} \\\\\n",
    "\\vdots \\\\\n",
    "(1-\\alpha_x) U_{0,0}^{n+1/2} + \\alpha_x U_{1,0}^{n+1/2}\n",
    "\\end{bmatrix}$$\n",
    "\n",
    "$$j=1,\\ldots,J-2:~ \\mathbf{d}_j = \n",
    "\\begin{bmatrix}\n",
    "\\alpha_x U_{j-1,I-1}^{n+1/2} + (1-2\\alpha_x) U_{j,I-1}^{n+1/2} + \\alpha_x U_{j+1,I-1}^{n+1/2} \\\\\n",
    "\\alpha_x U_{j-1,I-2}^{n+1/2} + (1-2\\alpha_x) U_{j,I-2}^{n+1/2} + \\alpha_x U_{j+1,I-2}^{n+1/2} \\\\\n",
    "\\vdots \\\\\n",
    "\\alpha_x U_{j-1,0}^{n+1/2} + (1-2\\alpha_x) U_{j,0}^{n+1/2} + \\alpha_x U_{j+1,0}^{n+1/2}\n",
    "\\end{bmatrix}$$\n",
    "\n",
    "$$j=J-1:~ \\mathbf{d}_{J-1} = \n",
    "\\begin{bmatrix}\n",
    "\\alpha_x U_{J-2,I-1}^{n+1/2} + (1-\\alpha_x) U_{J-1,I-1}^{n+1/2} \\\\\n",
    "\\alpha_x U_{J-2,I-2}^{n+1/2} + (1-\\alpha_x) U_{J-1,I-2}^{n+1/2} \\\\\n",
    "\\vdots \\\\\n",
    "\\alpha_x U_{J-2,0}^{n+1/2} + (1-\\alpha_x) U_{J-1,0}^{n+1/2}\n",
    "\\end{bmatrix}$$\n",
    "\n",
    "The reaction term vector is\n",
    "\n",
    "$$\\mathbf{f}\\left( \\Delta t \\mathbf{U}_{y,j}^{n+1/2} \\right) = \n",
    "\\begin{bmatrix}\n",
    "\\Delta t f(U_{j,I-1}^{n+1/2}), & \\Delta t f(U_{j,I-2}^{n+1/2}), & \\ldots, & \\Delta t f(U_{j,0}^{n+1/2})\n",
    "\\end{bmatrix}$$"
   ]
  },
  {
   "cell_type": "markdown",
   "metadata": {},
   "source": [
    "## Parallelism in the ADI"
   ]
  },
  {
   "cell_type": "markdown",
   "metadata": {},
   "source": [
    "To summarize, the ADI stencil generates two families of linear systems that we need to solve iteratively:\n",
    "\n",
    "$$A \\mathbf{U}_{x,i}^{n+1/2} = \\mathbf{b}_i + \\mathbf{f}\\left( \\Delta t \\mathbf{U}_{x,i}^n \\right),~i=0,\\ldots,I-1,$$\n",
    "\n",
    "$$C \\mathbf{U}_{y,j}^{n+1} = \\mathbf{d}_j + \\mathbf{f}\\left( \\Delta t \\mathbf{U}_{y,j}^{n+1/2} \\right),~j=0,\\ldots,J-1.$$\n",
    "\n",
    "Upon closer inspection, we realize that we can solve the $I$ linear systems of the first family in parallel.\n",
    "To see this let us take a look at two arbitrary linear systems out of this family:\n",
    "\n",
    "$$A \\mathbf{U}_{x,i_1}^{n+1/2} = \\mathbf{b}_{i_1} + \\mathbf{f}\\left( \\Delta t \\mathbf{U}_{x,i_1}^n \\right),$$\n",
    "\n",
    "$$A \\mathbf{U}_{x,i_2}^{n+1/2} = \\mathbf{b}_{i_2} + \\mathbf{f}\\left( \\Delta t \\mathbf{U}_{x,i_2}^n \\right).$$\n",
    "\n",
    "As we can see, there is no interdependence between the linear systems for indeces $i_1$ and $i_2$ that would prevent\n",
    "us from solving these in parallel.\n",
    "\n",
    "The same reasoning can be applied to our second family of linear systems.\n",
    "We can solve the linear systems of all indeces $j$ of that family in parallel."
   ]
  },
  {
   "cell_type": "markdown",
   "metadata": {},
   "source": [
    "## An ADI Example in Python"
   ]
  },
  {
   "cell_type": "markdown",
   "metadata": {},
   "source": [
    "Package imports"
   ]
  },
  {
   "cell_type": "code",
   "execution_count": 1,
   "metadata": {},
   "outputs": [],
   "source": [
    "import numpy\n",
    "import matplotlib.pyplot as plt\n",
    "import numpy as np\n",
    "from scipy.linalg import solve_banded\n",
    "from scipy.sparse import diags\n",
    "from tqdm import tqdm\n",
    "import copy "
   ]
  },
  {
   "cell_type": "markdown",
   "metadata": {},
   "source": [
    "Solver parameters"
   ]
  },
  {
   "cell_type": "code",
   "execution_count": 89,
   "metadata": {},
   "outputs": [
    {
     "name": "stdout",
     "output_type": "stream",
     "text": [
      "0.01 0.020000000000000004\n"
     ]
    }
   ],
   "source": [
    "\n",
    "n_species=2\n",
    "\n",
    "L_x = 3; L_y=L_x; dx =0.1; dy=dx;J = int(L_x/dx); I=J #spatial variables\n",
    "T = 200; dt = 0.01; N = int(T/dt)    #temporal variables\n",
    "\n",
    "L_x = 5; L_y=L_x; dx =0.1; dy=dx;J = int(L_x/dx); I=J\n",
    "T =25; dt = 0.005; N = int(T/dt)\n",
    "T =25; dt = 0.01; N = int(T/dt)\n",
    "\n",
    "suggesteddt = float(dx*dx*2) #suggested dt for stability\n",
    "print(dt, suggesteddt)\n",
    "\n",
    "x_grid = numpy.array([j*dx for j in range(J)]) #x axis grid\n",
    "y_grid = numpy.array([i*dy for i in range(I)]) #y axis grid\n",
    "t_grid = numpy.array([n*dt for n in range(N)]) #time grid\n"
   ]
  },
  {
   "cell_type": "code",
   "execution_count": 106,
   "metadata": {},
   "outputs": [],
   "source": [
    "#PDE system of reaction-diffusion.\n",
    "\n",
    "def f(U, f_args=(2, 3)):\n",
    "    A, B = f_args\n",
    "\n",
    "    u2 = U[0]**2\n",
    "    u2v = u2 * U[1]\n",
    "    fu = A - (B + 1) * U[0] + u2v\n",
    "    fv = B * U[0] - u2v\n",
    "    return [fu, fv]\n",
    "\n",
    "D=[0.02,0.4] #diffusion coefficients"
   ]
  },
  {
   "cell_type": "markdown",
   "metadata": {},
   "source": [
    "Define initial conditions\n",
    "\n",
    "\n"
   ]
  },
  {
   "cell_type": "code",
   "execution_count": 107,
   "metadata": {},
   "outputs": [
    {
     "data": {
      "image/png": "[encoded data removed]",
      "text/plain": [
       "<Figure size 640x480 with 2 Axes>"
      ]
     },
     "metadata": {},
     "output_type": "display_data"
    }
   ],
   "source": [
    "U0 = []\n",
    "perturbation=0.001\n",
    "# steadystates=[0.1,0.1]\n",
    "steadystates = [2,3/2]\n",
    "for index in range(n_species):\n",
    "    U0.append(np.random.uniform(low=steadystates[index] - perturbation, high=steadystates[index] + perturbation, size=(I, J)))\n",
    "\n",
    "\n",
    "\n",
    "#plot initial condition of species 1\n",
    "plt.imshow(U0[0])\n",
    "plt.colorbar()\n",
    "plt.show()\n",
    "\n",
    "\n"
   ]
  },
  {
   "cell_type": "markdown",
   "metadata": {},
   "source": [
    "Define alpha, A, B matrices"
   ]
  },
  {
   "cell_type": "code",
   "execution_count": 108,
   "metadata": {},
   "outputs": [],
   "source": [
    "alpha = [Dn*dt/(2.*dx*dx) for Dn in D]\n"
   ]
  },
  {
   "cell_type": "code",
   "execution_count": 109,
   "metadata": {},
   "outputs": [],
   "source": [
    "#A matrix (right-hand side of Ax=b)\n",
    "def A(alpha_i):\n",
    "    bottomdiag = [-alpha_i for j in range(J-1)]\n",
    "    centraldiag = [1.+alpha_i]+[1.+2.*alpha_i for j in range(J-2)]+[1.+alpha_i]\n",
    "    topdiag = [-alpha_i for j in range(J-1)]\n",
    "    diagonals = [bottomdiag,centraldiag,topdiag]\n",
    "    A = diags(diagonals, [ -1, 0,1]).toarray()\n",
    "    return A\n",
    "def diagonal_form(a, upper = 1, lower= 1):\n",
    "    \"\"\"\n",
    "    a is a numpy square matrix\n",
    "    this function converts a square matrix to diagonal ordered form\n",
    "    returned matrix in ab shape which can be used directly for scipy.linalg.solve_banded\n",
    "    \"\"\"\n",
    "    n = a.shape[1]\n",
    "    assert(np.all(a.shape ==(n,n)))\n",
    "\n",
    "    ab = np.zeros((2*n-1, n))\n",
    "\n",
    "    for i in range(n):\n",
    "        ab[i,(n-1)-i:] = np.diagonal(a,(n-1)-i)\n",
    "\n",
    "    for i in range(n-1):\n",
    "        ab[(2*n-2)-i,:i+1] = np.diagonal(a,i-(n-1))\n",
    "\n",
    "    mid_row_inx = int(ab.shape[0]/2)\n",
    "    upper_rows = [mid_row_inx - i for i in range(1, upper+1)]\n",
    "    upper_rows.reverse()\n",
    "    upper_rows.append(mid_row_inx)\n",
    "    lower_rows = [mid_row_inx + i for i in range(1, lower+1)]\n",
    "    keep_rows = upper_rows+lower_rows\n",
    "    ab = ab[keep_rows,:]\n",
    "\n",
    "\n",
    "    return ab\n",
    "ab_list = [diagonal_form(A(alpha_i)) for alpha_i in alpha]\n",
    "A_list = [A(alpha_i) for alpha_i in alpha]"
   ]
  },
  {
   "cell_type": "code",
   "execution_count": 110,
   "metadata": {},
   "outputs": [],
   "source": [
    "    \n",
    "def b(axis,ij,alpha_i,Un):\n",
    "    b_t_stencil = np.array( [0] + [(1-alpha_i)] + [alpha_i])\n",
    "    b_c_stencil = np.array( [alpha_i] + [(1-2*alpha_i)] + [alpha_i])\n",
    "    b_b_stencil = np.array( [alpha_i] + [(1-alpha_i)] + [0])\n",
    "    \n",
    "    b = np.zeros(J)\n",
    "    if axis == 'y':\n",
    "        i = ij\n",
    "        if i > 0 and i < I-1:\n",
    "            for j in range(0,J):\n",
    "                ux_three = [Un[j,i-1], Un[j,i], Un[j,i+1]]\n",
    "                sub_b = np.sum(ux_three*b_c_stencil)\n",
    "                b[j] = sub_b\n",
    "\n",
    "        if i == 0:\n",
    "            for j in range(0,J):\n",
    "                ux_three = [0 , Un[j,i], Un[j,i+1]]\n",
    "                sub_b = np.sum(ux_three*b_t_stencil)\n",
    "                b[j] = sub_b\n",
    "\n",
    "        if i == I-1:\n",
    "            for j in range(0,J):\n",
    "                ux_three = [Un[j,i-1], Un[j,i] , 0]\n",
    "                sub_b = np.sum(ux_three*b_b_stencil)\n",
    "                b[j] = sub_b\n",
    "\n",
    "\n",
    "    if axis == 'x':  \n",
    "        j = ij\n",
    "        if j > 0 and  j < J-1:\n",
    "            for i in range(0,I):\n",
    "                uy_three = [Un[j-1,i], Un[j,i], Un[j+1,i]]\n",
    "                sub_b = np.sum(uy_three*b_c_stencil)\n",
    "                b[i] = sub_b\n",
    "\n",
    "        if j == 0:\n",
    "            for i in range(0,I):\n",
    "                uy_three = [0, Un[j,i], Un[j+1,i]]\n",
    "                sub_b = np.sum(uy_three*b_t_stencil)\n",
    "                b[i] = sub_b\n",
    "\n",
    "        if j == J-1:\n",
    "            for i in range(0,I):\n",
    "                uy_three = [Un[j-1,i], Un[j,i], 0]\n",
    "                sub_b = np.sum(uy_three*b_b_stencil)\n",
    "                b[i] = sub_b\n",
    "    \n",
    "    return b   "
   ]
  },
  {
   "cell_type": "markdown",
   "metadata": {},
   "source": [
    "Solver function 1"
   ]
  },
  {
   "cell_type": "code",
   "execution_count": 111,
   "metadata": {},
   "outputs": [],
   "source": [
    "#version one of ADI solver, a bit slower, but more intuitive]\n",
    "def ADI1():\n",
    "    U = copy.deepcopy(U0)\n",
    "    for ti in tqdm(range(N)):\n",
    "        \n",
    "        U_half = copy.deepcopy(U)\n",
    "        for i in range(I):\n",
    "            for n in range(n_species):\n",
    "                U_half[n][:,i] = numpy.linalg.solve(A(alpha[n]), b('y',i,alpha[n],U[n])) +  f(U)[n][:,i]*(dt/2)\n",
    "\n",
    "        U_new = copy.deepcopy(U_half)\n",
    "        for j in range(J):\n",
    "            for n in range(n_species):\n",
    "                U_new[n][j,:] = numpy.linalg.solve(A(alpha[n]), b('x',j,alpha[n],U_half[n])) + f(U_half)[n][j,:]*(dt/2)\n",
    "\n",
    "        U = copy.deepcopy(U_new)\n",
    "        \n",
    "    return U\n"
   ]
  },
  {
   "cell_type": "markdown",
   "metadata": {},
   "source": [
    "Solver function 2"
   ]
  },
  {
   "cell_type": "code",
   "execution_count": 112,
   "metadata": {},
   "outputs": [],
   "source": [
    "#version two of ADI solver, faster but less intuitive. uses solve_banded package\n",
    "\n",
    "def ADI2():\n",
    "    U = copy.deepcopy(U0)\n",
    "    \n",
    "    ab_list = [diagonal_form(A(alpha_i)) for alpha_i in alpha]# = [A(alpha_i) for alpha_i in alpha] \n",
    "    \n",
    "    for ti in tqdm(range(N)):\n",
    "        \n",
    "        U_half = copy.deepcopy(U)\n",
    "        for i in range(I):\n",
    "            for n in range(n_species):\n",
    "                U_half[n][:,i] = solve_banded((1, 1), ab_list[n], b('y',i,alpha[n],U[n])) +  f(U)[n][:,i]*(dt/2)\n",
    "\n",
    "        U_new = copy.deepcopy(U_half)\n",
    "        for j in range(J):\n",
    "            for n in range(n_species):\n",
    "                U_new[n][j,:] = solve_banded((1, 1), ab_list[n], b('x',j,alpha[n],U_half[n])) + f(U_half)[n][j,:]*(dt/2)\n",
    "\n",
    "        U = copy.deepcopy(U_new)\n",
    "        \n",
    "    return U"
   ]
  },
  {
   "cell_type": "markdown",
   "metadata": {},
   "source": [
    "Execute code"
   ]
  },
  {
   "cell_type": "code",
   "execution_count": 113,
   "metadata": {},
   "outputs": [
    {
     "name": "stderr",
     "output_type": "stream",
     "text": [
      "100%|██████████| 2500/2500 [02:19<00:00, 17.88it/s]\n"
     ]
    },
    {
     "data": {
      "image/png": "[encoded data removed]",
      "text/plain": [
       "<Figure size 640x480 with 2 Axes>"
      ]
     },
     "metadata": {},
     "output_type": "display_data"
    }
   ],
   "source": [
    "U = ADI2()   \n",
    "plt.imshow(U[0])  \n",
    "plt.colorbar()\n",
    "plt.show()\n"
   ]
  }
 ],
 "metadata": {
  "kernelspec": {
   "display_name": "Python 3.8.0 64-bit",
   "language": "python",
   "name": "python3"
  },
  "language_info": {
   "codemirror_mode": {
    "name": "ipython",
    "version": 3
   },
   "file_extension": ".py",
   "mimetype": "text/x-python",
   "name": "python",
   "nbconvert_exporter": "python",
   "pygments_lexer": "ipython3",
   "version": "3.8.13"
  },
  "vscode": {
   "interpreter": {
    "hash": "949777d72b0d2535278d3dc13498b2535136f6dfe0678499012e853ee9abcab1"
   }
  }
 },
 "nbformat": 4,
 "nbformat_minor": 1
}
