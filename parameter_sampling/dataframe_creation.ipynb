{
 "cells": [
  {
   "cell_type": "markdown",
   "metadata": {},
   "source": [
    "## Package Imports"
   ]
  },
  {
   "cell_type": "code",
   "execution_count": 1,
   "metadata": {},
   "outputs": [],
   "source": [
    "import pickle\n",
    "import pandas as pd\n",
    "import numpy as np\n",
    "from tqdm import tqdm\n",
    "import matplotlib.pyplot as plt\n",
    "import seaborn as sns"
   ]
  },
  {
   "cell_type": "markdown",
   "metadata": {},
   "source": [
    "## Functions required"
   ]
  },
  {
   "cell_type": "markdown",
   "metadata": {},
   "source": [
    "**Distribution functions**\n",
    "\n",
    "Given a the values that define the distribution and size, a dataset of length size with that distribution is generated. "
   ]
  },
  {
   "cell_type": "code",
   "execution_count": 2,
   "metadata": {},
   "outputs": [],
   "source": [
    "def parameterGaussian( mean, noisetosignal, size):\n",
    "    stdev = noisetosignal * mean\n",
    "    gaussianDistribution = np.random.normal(mean, stdev, size)\n",
    "    return gaussianDistribution\n",
    "\n",
    "def parameterLogNormal( mean, noisetosignal, size):\n",
    "    sigma = noisetosignal * mean\n",
    "    normal_std = np.sqrt(np.log(1 + (sigma/mean)**2))\n",
    "    normal_mean = np.log(mean) - normal_std**2 / 2\n",
    "    lognormalDistribution = np.random.lognormal(normal_mean, normal_std, size)\n",
    "    return lognormalDistribution\n",
    "\n",
    "def parameterLogUniform( min, max, size):\n",
    "    loguniform = lambda size:  (10) ** (np.random.uniform(-3, 3, size))\n",
    "    loguniformDistribution = loguniform(size)\n",
    "    croppedLoguniformDistribution = np.array([x for x in loguniformDistribution if min <= x <= max])\n",
    "    return croppedLoguniformDistribution\n",
    "\n",
    "def parameterFixed( value, size):\n",
    "    fixedDistribution = np.full((size), value)\n",
    "    return fixedDistribution\n",
    "\n",
    "\n",
    "def call_parameter_distribution(parameterDict,size):\n",
    "    if parameterDict['distribution']=='gaussian':\n",
    "        dist = parameterGaussian(parameterDict['mean'], parameterDict['noisetosignal'],size)\n",
    "    if parameterDict['distribution']=='lognormal':\n",
    "        dist = parameterLogNormal(parameterDict['mean'], parameterDict['sigma'],size)\n",
    "    if parameterDict['distribution']=='loguniform':\n",
    "        dist =  parameterLogUniform(parameterDict['min'], parameterDict['max'],size)\n",
    "    if parameterDict['distribution']=='fixed':\n",
    "        dist =  parameterFixed(parameterDict['value'],size)\n",
    "    return dist\n"
   ]
  },
  {
   "cell_type": "markdown",
   "metadata": {},
   "source": [
    "**Latin Hypercube Sampling function**\n",
    "\n",
    "Given a dataset with a certain distribution (data) and a number of samples (nsample), generate a lhs distributed dataset of length nsamples. "
   ]
  },
  {
   "cell_type": "code",
   "execution_count": 3,
   "metadata": {},
   "outputs": [],
   "source": [
    "#This function takes the list of dictionaries with all the different distributions desired (parameterDictList) and \n",
    "#generates a stackedDistribution which will serve as an input to the lhs function. \n",
    "#This stacked distribution has a column per distribution and the same number of rows for all\n",
    "def preLhs(parameterDictList):\n",
    "    parameterDistributionList = [call_parameter_distribution(parameterDict,100000) for parameterDict in parameterDictList] \n",
    "    distributionMinimumLenght = np.amin([len(x) for x in parameterDistributionList])\n",
    "    croppedParameterDistributionList = [x[:distributionMinimumLenght] for x in parameterDistributionList]\n",
    "    stackedDistributions = np.column_stack((croppedParameterDistributionList))\n",
    "    return stackedDistributions\n",
    "\n",
    "\n",
    "def lhs(data, nsample,seed=1, tqdm_disable=False):\n",
    "    np.random.seed(seed)\n",
    "    m, nvar = data.shape\n",
    "    ran = np.random.uniform(size=(nsample, nvar))\n",
    "    s = np.zeros((nsample, nvar))\n",
    "    for j in tqdm(range(0, nvar), disable=tqdm_disable):\n",
    "        idx = np.random.permutation(nsample) + 1\n",
    "        P = ((idx - ran[:, j]) / nsample) * 100\n",
    "        s[:, j] = np.percentile(data[:, j], P)\n",
    "\n",
    "    if np.any(s<=0):\n",
    "        print('WARNING: negative values in lhs')\n",
    "        s[s<0] = 0.001\n",
    "        \n",
    "    return s"
   ]
  },
  {
   "cell_type": "markdown",
   "metadata": {},
   "source": [
    "**PlotDist function**\n",
    "\n",
    "This function plots all distributions found in lhsDist_df"
   ]
  },
  {
   "cell_type": "code",
   "execution_count": 4,
   "metadata": {},
   "outputs": [],
   "source": [
    "def plotDistributions(parameterDictList,lhsDist_df):\n",
    "    nvar = len(parameterDictList)\n",
    "  \n",
    "    fig,axs = plt.subplots(nrows=1,ncols=nvar,figsize=(nvar*5,5))\n",
    "    for count,parameter in enumerate(parameterDictList):\n",
    "        name = parameter['name']\n",
    "        lhsDistColumn = lhsDist_df[name]\n",
    "        sns.histplot(lhsDistColumn, ax=axs[count], bins=100)\n",
    "        axs[count].set(ylabel ='',yticks=[],yticklabels=[])\n",
    "        axs[count].set_xlabel(name, fontsize=15)\n",
    "    plt.show()"
   ]
  },
  {
   "cell_type": "markdown",
   "metadata": {},
   "source": [
    "## Creation of distributions dataset"
   ]
  },
  {
   "cell_type": "markdown",
   "metadata": {},
   "source": [
    "Execute code to generate pandas dataframe with distributions"
   ]
  },
  {
   "cell_type": "code",
   "execution_count": 5,
   "metadata": {},
   "outputs": [
    {
     "name": "stderr",
     "output_type": "stream",
     "text": [
      "100%|██████████| 4/4 [00:00<00:00, 126.62it/s]\n"
     ]
    },
    {
     "data": {
      "text/html": [
       "<div>\n",
       "<style scoped>\n",
       "    .dataframe tbody tr th:only-of-type {\n",
       "        vertical-align: middle;\n",
       "    }\n",
       "\n",
       "    .dataframe tbody tr th {\n",
       "        vertical-align: top;\n",
       "    }\n",
       "\n",
       "    .dataframe thead th {\n",
       "        text-align: right;\n",
       "    }\n",
       "</style>\n",
       "<table border=\"1\" class=\"dataframe\">\n",
       "  <thead>\n",
       "    <tr style=\"text-align: right;\">\n",
       "      <th></th>\n",
       "      <th>Gaussian</th>\n",
       "      <th>LogNormal</th>\n",
       "      <th>LogUniform</th>\n",
       "      <th>Fixed</th>\n",
       "    </tr>\n",
       "  </thead>\n",
       "  <tbody>\n",
       "    <tr>\n",
       "      <th>0</th>\n",
       "      <td>0.605112</td>\n",
       "      <td>1.073550</td>\n",
       "      <td>12.040107</td>\n",
       "      <td>1.0</td>\n",
       "    </tr>\n",
       "    <tr>\n",
       "      <th>1</th>\n",
       "      <td>1.052824</td>\n",
       "      <td>1.081506</td>\n",
       "      <td>3.921946</td>\n",
       "      <td>1.0</td>\n",
       "    </tr>\n",
       "    <tr>\n",
       "      <th>2</th>\n",
       "      <td>1.035177</td>\n",
       "      <td>0.826801</td>\n",
       "      <td>14.789205</td>\n",
       "      <td>1.0</td>\n",
       "    </tr>\n",
       "    <tr>\n",
       "      <th>3</th>\n",
       "      <td>1.157024</td>\n",
       "      <td>1.184601</td>\n",
       "      <td>12.618921</td>\n",
       "      <td>1.0</td>\n",
       "    </tr>\n",
       "    <tr>\n",
       "      <th>4</th>\n",
       "      <td>1.340809</td>\n",
       "      <td>1.189156</td>\n",
       "      <td>14.074043</td>\n",
       "      <td>1.0</td>\n",
       "    </tr>\n",
       "    <tr>\n",
       "      <th>...</th>\n",
       "      <td>...</td>\n",
       "      <td>...</td>\n",
       "      <td>...</td>\n",
       "      <td>...</td>\n",
       "    </tr>\n",
       "    <tr>\n",
       "      <th>9995</th>\n",
       "      <td>0.778121</td>\n",
       "      <td>1.199984</td>\n",
       "      <td>4.488328</td>\n",
       "      <td>1.0</td>\n",
       "    </tr>\n",
       "    <tr>\n",
       "      <th>9996</th>\n",
       "      <td>0.868999</td>\n",
       "      <td>0.934618</td>\n",
       "      <td>45.157432</td>\n",
       "      <td>1.0</td>\n",
       "    </tr>\n",
       "    <tr>\n",
       "      <th>9997</th>\n",
       "      <td>1.190547</td>\n",
       "      <td>1.232535</td>\n",
       "      <td>47.883255</td>\n",
       "      <td>1.0</td>\n",
       "    </tr>\n",
       "    <tr>\n",
       "      <th>9998</th>\n",
       "      <td>1.004212</td>\n",
       "      <td>1.004331</td>\n",
       "      <td>1.357795</td>\n",
       "      <td>1.0</td>\n",
       "    </tr>\n",
       "    <tr>\n",
       "      <th>9999</th>\n",
       "      <td>1.159907</td>\n",
       "      <td>1.019053</td>\n",
       "      <td>13.803065</td>\n",
       "      <td>1.0</td>\n",
       "    </tr>\n",
       "  </tbody>\n",
       "</table>\n",
       "<p>10000 rows × 4 columns</p>\n",
       "</div>"
      ],
      "text/plain": [
       "      Gaussian  LogNormal  LogUniform  Fixed\n",
       "0     0.605112   1.073550   12.040107    1.0\n",
       "1     1.052824   1.081506    3.921946    1.0\n",
       "2     1.035177   0.826801   14.789205    1.0\n",
       "3     1.157024   1.184601   12.618921    1.0\n",
       "4     1.340809   1.189156   14.074043    1.0\n",
       "...        ...        ...         ...    ...\n",
       "9995  0.778121   1.199984    4.488328    1.0\n",
       "9996  0.868999   0.934618   45.157432    1.0\n",
       "9997  1.190547   1.232535   47.883255    1.0\n",
       "9998  1.004212   1.004331    1.357795    1.0\n",
       "9999  1.159907   1.019053   13.803065    1.0\n",
       "\n",
       "[10000 rows x 4 columns]"
      ]
     },
     "execution_count": 5,
     "metadata": {},
     "output_type": "execute_result"
    }
   ],
   "source": [
    "#Number of samples desired\n",
    "nsamples=10000\n",
    "\n",
    "#Different distributions to be used \n",
    "Gaussian = {'name':'Gaussian','distribution':'gaussian', 'mean':1, 'noisetosignal':0.2}\n",
    "LogNormal = {'name':'LogNormal','distribution':'lognormal', 'mean':1, 'sigma':0.1}\n",
    "LogUniform = {'name':'LogUniform','distribution':'loguniform', 'min':1, 'max':100}\n",
    "Fixed = {'name':'Fixed','distribution':'fixed','value':1}\n",
    "parameterDictList = [Gaussian, LogNormal,LogUniform,Fixed]\n",
    "\n",
    "#Distribution sampling with LHS\n",
    "stackedDistributions = preLhs(parameterDictList)\n",
    "lhsDist = lhs(stackedDistributions,nsamples)\n",
    "\n",
    "#Creation of pandas dataframe with resulting dataset\n",
    "lhsDist_df = pd.DataFrame(data = lhsDist, columns=[parameter['name'] for parameter in parameterDictList])\n",
    "lhsDist_df\n"
   ]
  },
  {
   "cell_type": "code",
   "execution_count": 7,
   "metadata": {},
   "outputs": [
    {
     "data": {
      "image/png": "[encoded data removed]",
      "text/plain": [
       "<Figure size 2000x500 with 4 Axes>"
      ]
     },
     "metadata": {},
     "output_type": "display_data"
    }
   ],
   "source": [
    "#visualization of distributions\n",
    "plotDistributions(parameterDictList,lhsDist_df)\n"
   ]
  }
 ],
 "metadata": {
  "kernelspec": {
   "display_name": "condaenv",
   "language": "python",
   "name": "python3"
  },
  "language_info": {
   "codemirror_mode": {
    "name": "ipython",
    "version": 3
   },
   "file_extension": ".py",
   "mimetype": "text/x-python",
   "name": "python",
   "nbconvert_exporter": "python",
   "pygments_lexer": "ipython3",
   "version": "3.8.13"
  }
 },
 "nbformat": 4,
 "nbformat_minor": 2
}
