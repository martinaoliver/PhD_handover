{
 "cells": [
  {
   "cell_type": "code",
   "execution_count": 1,
   "metadata": {},
   "outputs": [],
   "source": [
    "import numpy as np\n",
    "from scipy import optimize\n",
    "from sympy import *\n",
    "from scipy.integrate import odeint\n",
    "\n"
   ]
  },
  {
   "cell_type": "markdown",
   "metadata": {},
   "source": [
    "This script describes different methods to obtain the steady states or equilibrium points of a systems. \n",
    "\n",
    "Those values can be obtained by setting the differential equation to zero and solving for $u$\n",
    "\n",
    "$$\\frac{\\partial u}{\\partial t} = 0$$\n",
    "\n",
    "Several methods can be used to compute the steady state $U^*$. In this notebook, we will follow a python implementation of the analytical method, the ODE method, and the Crank-Nicolson."
   ]
  },
  {
   "cell_type": "markdown",
   "metadata": {},
   "source": [
    "The system used as an example is a reaction-diffusion model.\n",
    "\n",
    "\n",
    "$$\\frac{\\partial u}{\\partial t} = a-u+u^2v +  D_u \\frac{\\partial^2 u}{\\partial x^2} ,$$\n",
    "\n",
    "$$\\frac{\\partial v}{\\partial t} = \\frac{b}{(a+b)^2} +  D_v \\frac{\\partial^2 v}{\\partial x^2} $$ \n",
    "\n",
    "\n"
   ]
  },
  {
   "cell_type": "markdown",
   "metadata": {},
   "source": [
    "### Analytical method"
   ]
  },
  {
   "cell_type": "markdown",
   "metadata": {},
   "source": [
    "Most accurate and computationally efficient way to calculate steady states. However, it only works for simple systems such as the PDE. More complex systems such as the atlas topologies which contain Hill terms cannot be computed analytically. \n",
    "\n",
    "The following expression is obtained using pen and paper but $sympy.solve()$ can also compute an analytical expression of the steady state.\n",
    "\n"
   ]
  },
  {
   "cell_type": "code",
   "execution_count": 2,
   "metadata": {},
   "outputs": [
    {
     "name": "stdout",
     "output_type": "stream",
     "text": [
      "Steady state\n",
      "[1.1, 0.9090909090909091]\n"
     ]
    }
   ],
   "source": [
    "a = 0\n",
    "b =1.1\n",
    "Ustar_analytic = [a+b, b/(a+b)**2] \n",
    "print('Steady state')\n",
    "print(Ustar_analytic)"
   ]
  },
  {
   "cell_type": "markdown",
   "metadata": {},
   "source": [
    "### ODE solver"
   ]
  },
  {
   "cell_type": "code",
   "execution_count": 3,
   "metadata": {},
   "outputs": [],
   "source": [
    "def PDE(u,t,params = [0,1.1]): \n",
    "    a,b = params\n",
    "    f_u0 = a - u[0] + (u[0]**2)*u[1]\n",
    "    f_u1 = b - (u[0]**2)*u[1]\n",
    "    return f_u0,f_u1"
   ]
  },
  {
   "cell_type": "code",
   "execution_count": 4,
   "metadata": {},
   "outputs": [
    {
     "data": {
      "image/png": "[encoded data removed]",
      "text/plain": [
       "<Figure size 640x480 with 1 Axes>"
      ]
     },
     "metadata": {},
     "output_type": "display_data"
    },
    {
     "name": "stdout",
     "output_type": "stream",
     "text": [
      "Steady state\n",
      "[1.1008924  0.90880478]\n"
     ]
    }
   ],
   "source": [
    "T=60\n",
    "t = np.linspace(0, T, T*1000)\n",
    "sol = odeint(PDE, [10,10], t)\n",
    "import matplotlib.pyplot as plt\n",
    "plt.plot(t[:], sol[:, 0], 'b', label='theta(t)')\n",
    "plt.plot(t[:], sol[:, 1], 'g', label='omega(t)')\n",
    "plt.legend(loc='best')\n",
    "plt.xlabel('t')\n",
    "plt.grid()\n",
    "plt.show()\n",
    "Ustar_ODE=sol[-1]\n",
    "print('Steady state')\n",
    "print(Ustar_ODE)"
   ]
  },
  {
   "cell_type": "markdown",
   "metadata": {},
   "source": [
    "### Newton-Raphson method"
   ]
  },
  {
   "cell_type": "markdown",
   "metadata": {},
   "source": [
    "In numerical analysis, Newton's method, also known as the Newton–Raphson method, named after Isaac Newton and Joseph Raphson, is a root-finding algorithm which produces successively better approximations to the roots (or zeroes) of a real-valued function.\n",
    "\n",
    "This is the algorithm of choice for more complex systems which do not have an analytical solution, or where the solution is hard to obtain. It is more accurate than the ODE solver method.\n",
    "\n",
    "This algorithm needs as an input the function, the jacobian and an initial condition"
   ]
  },
  {
   "cell_type": "code",
   "execution_count": 5,
   "metadata": {},
   "outputs": [],
   "source": [
    "#Definition of PDE and Jacobian functions\n",
    "\n",
    "# #PDE system\n",
    "def PDE(u,params = [0,1.1]):\n",
    "    a,b = params\n",
    "    f_u0 = a - u[0] + (u[0]**2)*u[1]\n",
    "    f_u1 = b - (u[0]**2)*u[1]\n",
    "    return f_u0,f_u1\n",
    "\n",
    "# #Jacobian of PDE system\n",
    "def jacobian_PDE():\n",
    "    U,V=symbols('U'),symbols('V')\n",
    "    functions = Matrix(PDE([U,V]))\n",
    "    jacobian_matrix = functions.jacobian([U,V])\n",
    "    return jacobian_matrix\n",
    "\n",
    "\n",
    "\n",
    "\n"
   ]
  },
  {
   "cell_type": "code",
   "execution_count": 6,
   "metadata": {},
   "outputs": [],
   "source": [
    "#Definition of functions to sample initial conditions with latin hypercube sampling.\n",
    "\n",
    "#This function return a loguniform distribution with values from 10^low to 10^high\n",
    "def loguniform(low=-3, high=3, size=None):\n",
    "    return (10)**(np.random.uniform(low, high, size))\n",
    "\n",
    "# - This function accepts an already existing distribution and a required number of samples\n",
    "# and outputs an array with samples distributed in a latin-hyper-cube sampling manner.\n",
    "def lhs_list(data,nsample):\n",
    "    m,nvar = data.shape\n",
    "    ran=np.random.uniform(size=(nsample,nvar))\n",
    "    s=np.zeros((nsample,nvar))\n",
    "    for j in range(0,nvar):\n",
    "        idx=np.random.permutation(nsample)+1\n",
    "        P=((idx-ran[:,j])/nsample)*100\n",
    "        s[:,j]= np.percentile(data[:,j],P)\n",
    "    return s\n",
    "\n",
    "# - Input number of initial conditions needed and the number of species in each sample obtain an array with the\n",
    "# initial conditions distributed in a lhs manner.\n",
    "def lhs_initial_conditions(n_initialconditions=10,n_species=2):\n",
    "    data = np.column_stack(([loguniform(size=100000)]*n_species))\n",
    "    initial_conditions = lhs_list(data,n_initialconditions)\n",
    "    return np.array(initial_conditions,dtype=np.float)\n",
    "\n"
   ]
  },
  {
   "cell_type": "code",
   "execution_count": 10,
   "metadata": {},
   "outputs": [],
   "source": [
    "#Definition of newton raphson algorithm function to find steady states\n",
    "\n",
    "def newton_raphson(x_guess, max_num_iter=15, tolerance=0.0001, alpha=1):\n",
    "    '''\n",
    "    Function for representing a Newton-Raphson iteration for multidimensional systems of equations\n",
    "    :param f: function class that must define the following methods:\n",
    "        - numDims(): Method that returns an integer number of variables in the system of equations\n",
    "        - getJacobian(np.ndarray): Method to compute the Jacobian of the system of equations at the current root estimate.The output is an n by n matrix where n is the number of variables in the system of equations\n",
    "\t\t- __call__(np.ndarray): Method to make this class act like a function operating on some input x\n",
    "    :param x_guess: an initial guess for the Newton-Raphson iteration\n",
    "    :param max_num_iter: a maximum number of iterations that will be taken\n",
    "    :param tolerance: a tolerance that will stop the sequence once the error drops below it\n",
    "    :param alpha: A coefficient that can tune the Newton-Raphson stepsize. Recommend setting alpha <= 1.\n",
    "    :return: A tuple with the root estimate, final error for the root, and the number of iterations it took\n",
    "    '''\n",
    "\n",
    "    # set the initial guess\n",
    "    x = x_guess\n",
    "\n",
    "    # compute function value at initial guess\n",
    "    fx = PDE(x)\n",
    "\n",
    "\n",
    "    # define the initial value for the error and the starting iteration count\n",
    "    err = np.linalg.norm(fx)\n",
    "    iter = 0\n",
    "    \n",
    "    # perform the Newton-Raphson iteration algo\n",
    "    while err > tolerance and iter < max_num_iter and np.all(x!=0):\n",
    "#         print (x)\n",
    "\n",
    "        jac = jacobian_PDE()\n",
    "        U,V= symbols('U'),symbols('V')\n",
    "        jac = jac.subs(U,x_guess[0])\n",
    "        jac = jac.subs(V,x_guess[1])\n",
    "        jac = np.array(jac,dtype=float)\n",
    "\n",
    "        # perform newton step\n",
    "        x = x - alpha*np.linalg.solve(jac,fx)\n",
    "\n",
    "        # update the function value at the new root estimate\n",
    "        fx = PDE(x)\n",
    "\n",
    "\n",
    "        # compute the current root error\n",
    "        err = np.linalg.norm(fx)\n",
    "\n",
    "        # update the iteration counter\n",
    "        # print(\"Iteration {0}: Error of {1} with an estimate of {2}\".format(iter, err, x))\n",
    "\n",
    "        iter = iter + 1\n",
    "    if err < tolerance:\n",
    "        if sum(item < 0 for item in x) == 0 : #check that there are no negatives\n",
    "            return (x, err, 0)\n",
    "\n"
   ]
  },
  {
   "cell_type": "code",
   "execution_count": 11,
   "metadata": {},
   "outputs": [],
   "source": [
    "#This function takes a list of initial conditions and returns a list of steady states found from those initial condition.\n",
    "#It also checks if the steady state found is similar to any previous steady states found and only adds it to the list if it is not similar.\n",
    "\n",
    "def newtonraphson_run(initial_conditions):\n",
    "    count=0\n",
    "    SteadyState_list = []\n",
    "    for n in range(len(initial_conditions)):\n",
    "        xn=[]\n",
    "        xn = newton_raphson(initial_conditions[n])\n",
    "            \n",
    "        if xn != None:  #the algorithm has found a steady state from this initial condition\n",
    "            if count == 0: #Always add to add clusteredsteadystates in the first iteration of this for loop.\n",
    "                SteadyState_list.append(xn[0])\n",
    "                count+=1\n",
    "            if count > 0: #if not the first iteration, the steady state it must be compared against previous steady states stored to see if its the same\n",
    "                logiclist = []\n",
    "                for i in range(count):\n",
    "                    logiclist.append(np.allclose(SteadyState_list[i], xn[0], rtol=10**-2, atol=0)) #PROCEED IF NO TRUES FOUND\n",
    "                if not True in logiclist: #no similar steady states previously found\n",
    "                    SteadyState_list.append(xn[0])\n",
    "                    \n",
    "                    count +=1\n",
    "\n",
    "    return SteadyState_list\n"
   ]
  },
  {
   "cell_type": "code",
   "execution_count": 12,
   "metadata": {
    "scrolled": false
   },
   "outputs": [
    {
     "name": "stdout",
     "output_type": "stream",
     "text": [
      "[1.1       0.9091477]\n"
     ]
    },
    {
     "name": "stderr",
     "output_type": "stream",
     "text": [
      "/var/folders/bt/1cqt3cks1sl9cz4dfwlyxhpm0000gn/T/ipykernel_14353/822025524.py:24: DeprecationWarning: `np.float` is a deprecated alias for the builtin `float`. To silence this warning, use `float` by itself. Doing this will not modify any behavior and is safe. If you specifically wanted the numpy scalar type, use `np.float64` here.\n",
      "Deprecated in NumPy 1.20; for more details and guidance: https://numpy.org/devdocs/release/1.20.0-notes.html#deprecations\n",
      "  return np.array(initial_conditions,dtype=np.float)\n",
      "/var/folders/bt/1cqt3cks1sl9cz4dfwlyxhpm0000gn/T/ipykernel_14353/809861569.py:6: RuntimeWarning: overflow encountered in double_scalars\n",
      "  f_u0 = a - u[0] + (u[0]**2)*u[1]\n",
      "/var/folders/bt/1cqt3cks1sl9cz4dfwlyxhpm0000gn/T/ipykernel_14353/809861569.py:7: RuntimeWarning: overflow encountered in double_scalars\n",
      "  f_u1 = b - (u[0]**2)*u[1]\n"
     ]
    }
   ],
   "source": [
    "#Code to run steady state finding including generation of intiial conditions and finding of steady states\n",
    "np.random.seed(2)\n",
    "initial_conditions1 = lhs_initial_conditions(n_initialconditions=10,n_species=2)   #obtain lhs sample for initial conditions\n",
    "SteadyState_list = newtonraphson_run(initial_conditions1) #\n",
    "\n",
    "for i in SteadyState_list:\n",
    "    print(i)\n",
    "    Ustar_NewtonRaphson=i\n"
   ]
  },
  {
   "cell_type": "markdown",
   "metadata": {},
   "source": [
    "#### Comparison of method's accuracy"
   ]
  },
  {
   "cell_type": "code",
   "execution_count": 13,
   "metadata": {},
   "outputs": [
    {
     "name": "stdout",
     "output_type": "stream",
     "text": [
      "[1.1, 0.9090909090909091] (0.0, 0.0)\n",
      "[1.1008924  0.90880478] (0.0005463499823277207, -0.0014387485587969984)\n",
      "[1.1       0.9091477] (6.872131348067967e-05, -6.872131348067967e-05)\n"
     ]
    }
   ],
   "source": [
    "print(Ustar_analytic, PDE(Ustar_analytic))\n",
    "print(Ustar_ODE, PDE(Ustar_ODE))\n",
    "print(Ustar_NewtonRaphson, PDE(Ustar_NewtonRaphson))"
   ]
  },
  {
   "cell_type": "markdown",
   "metadata": {},
   "source": [
    "This system has one steady state"
   ]
  }
 ],
 "metadata": {
  "kernelspec": {
   "display_name": "Python 3",
   "language": "python",
   "name": "python3"
  },
  "language_info": {
   "codemirror_mode": {
    "name": "ipython",
    "version": 3
   },
   "file_extension": ".py",
   "mimetype": "text/x-python",
   "name": "python",
   "nbconvert_exporter": "python",
   "pygments_lexer": "ipython3",
   "version": "3.8.13"
  }
 },
 "nbformat": 4,
 "nbformat_minor": 4
}
